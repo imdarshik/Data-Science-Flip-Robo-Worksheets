{
  "nbformat": 4,
  "nbformat_minor": 0,
  "metadata": {
    "colab": {
      "name": "SET 1 - Python",
      "provenance": []
    },
    "kernelspec": {
      "name": "python3",
      "display_name": "Python 3"
    },
    "language_info": {
      "name": "python"
    }
  },
  "cells": [
    {
      "cell_type": "markdown",
      "metadata": {
        "id": "guc8lyqz8r8B"
      },
      "source": [
        "# 11)"
      ]
    },
    {
      "cell_type": "code",
      "metadata": {
        "colab": {
          "base_uri": "https://localhost:8080/"
        },
        "id": "dvZa1L9p8tQ3",
        "outputId": "46df00af-40d6-4af6-d96e-ffde7ac4e6f1"
      },
      "source": [
        "n = int(input('Enter the number : '))\n",
        "f = 1\n",
        "for i in range(1,n+1):\n",
        "    f = f * i   \n",
        "print ('The factorial of {} is : {}'.format(n,f))"
      ],
      "execution_count": 2,
      "outputs": [
        {
          "output_type": "stream",
          "text": [
            "Enter the number : 23\n",
            "The factorial of 23 is : 25852016738884976640000\n"
          ],
          "name": "stdout"
        }
      ]
    },
    {
      "cell_type": "markdown",
      "metadata": {
        "id": "951mOxDL9dfP"
      },
      "source": [
        "# 12)"
      ]
    },
    {
      "cell_type": "code",
      "metadata": {
        "colab": {
          "base_uri": "https://localhost:8080/"
        },
        "id": "RevLzUh89RoY",
        "outputId": "0ef51cce-cd89-44c5-8d46-bb5e2f1293a1"
      },
      "source": [
        "n = int(input('Enter the number : '))\n",
        "if n > 1:\n",
        "  for i in range(2, n):\n",
        "    if (n % i) == 0:\n",
        "      print(n, 'is not a prime number')\n",
        "      break\n",
        "  print(n, 'is a prime number')\n",
        "elif n == 0 or 1:\n",
        "  print(n, 'is a neither prime nor composite number')\n",
        "else:\n",
        "  print(n, 'is not a prime number, it is a composite number')"
      ],
      "execution_count": 5,
      "outputs": [
        {
          "output_type": "stream",
          "text": [
            "Enter the number : 23\n",
            "23 is a prime number\n"
          ],
          "name": "stdout"
        }
      ]
    },
    {
      "cell_type": "markdown",
      "metadata": {
        "id": "lwkzNlt-AVK2"
      },
      "source": [
        "#13)"
      ]
    },
    {
      "cell_type": "code",
      "metadata": {
        "colab": {
          "base_uri": "https://localhost:8080/"
        },
        "id": "lBtUobLn-fhy",
        "outputId": "83e94cfa-4a60-47b9-d75b-3d539327c0c7"
      },
      "source": [
        "def isPalindrome(string):\n",
        "  rev = string[::-1]\n",
        "  if (string == rev):\n",
        "    return True\n",
        "  return False\n",
        "\n",
        "string = input('Enter the string : ')\n",
        "\n",
        "if isPalindrome(string): print('Yes') \n",
        "else: print('No')"
      ],
      "execution_count": 15,
      "outputs": [
        {
          "output_type": "stream",
          "text": [
            "Enter the string : sureshserus\n",
            "Yes\n"
          ],
          "name": "stdout"
        }
      ]
    },
    {
      "cell_type": "markdown",
      "metadata": {
        "id": "25zkjWoeBEc1"
      },
      "source": [
        "#14)"
      ]
    },
    {
      "cell_type": "code",
      "metadata": {
        "colab": {
          "base_uri": "https://localhost:8080/"
        },
        "id": "Muj6CyEkADrV",
        "outputId": "bda46f1b-0dd9-477a-d1d1-31d7f6d0c3f9"
      },
      "source": [
        "a = int(input('Enter side a : '))\n",
        "b = int(input('Enter side b : '))\n",
        "print('Side c : ',(a**2 + b**2)**0.5)"
      ],
      "execution_count": 16,
      "outputs": [
        {
          "output_type": "stream",
          "text": [
            "Enter side a : 4\n",
            "Enter side b : 6\n",
            "Side c :  7.211102550927978\n"
          ],
          "name": "stdout"
        }
      ]
    },
    {
      "cell_type": "markdown",
      "metadata": {
        "id": "Rb6tSZotBcnd"
      },
      "source": [
        "#15)"
      ]
    },
    {
      "cell_type": "code",
      "metadata": {
        "colab": {
          "base_uri": "https://localhost:8080/"
        },
        "id": "4sk1pCv1A3Wl",
        "outputId": "77ecbac0-5278-4073-a5c0-f2c71dd3e6d3"
      },
      "source": [
        "from collections import Counter\n",
        "string = input('Enter the string : ')\n",
        "print(dict(Counter(string)))"
      ],
      "execution_count": 20,
      "outputs": [
        {
          "output_type": "stream",
          "text": [
            "Enter the string : fliprobotech\n",
            "{'f': 1, 'l': 1, 'i': 1, 'p': 1, 'r': 1, 'o': 2, 'b': 1, 't': 1, 'e': 1, 'c': 1, 'h': 1}\n"
          ],
          "name": "stdout"
        }
      ]
    },
    {
      "cell_type": "code",
      "metadata": {
        "id": "YqyKqtF6BSI8"
      },
      "source": [
        ""
      ],
      "execution_count": 19,
      "outputs": []
    }
  ]
}